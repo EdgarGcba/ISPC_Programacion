{
 "cells": [
  {
   "cell_type": "markdown",
   "id": "a5578d5f",
   "metadata": {},
   "source": [
    "## Ejercicios con funciones"
   ]
  },
  {
   "cell_type": "markdown",
   "id": "e6100dd4",
   "metadata": {},
   "source": [
    "### Ejercicio 1:\n",
    "\n",
    "Escribir dos funciones que permitan calcular:\n",
    "\n",
    "La cantidad de segundos en un tiempo dado en horas, minutos y segundos.\n",
    "La cantidad de horas, minutos y segundos de un tiempo dado en segundos."
   ]
  },
  {
   "cell_type": "code",
   "execution_count": 18,
   "id": "b45db8fd",
   "metadata": {},
   "outputs": [
    {
     "data": {
      "text/plain": [
       "'Cantidad de segundos en 2 horas, 30 min., 60 seg es igual a: 9060'"
      ]
     },
     "execution_count": 18,
     "metadata": {},
     "output_type": "execute_result"
    }
   ],
   "source": [
    "def segundos(horas,minutos,segundos):\n",
    "    cantSegundos=horas*60*60+minutos*60+segundos\n",
    "    return f'Cantidad de segundos en {horas} horas, {minutos} min., {segundos} seg es igual a: ' + str(cantSegundos)\n",
    "\n",
    "segundos(2,30,60)\n"
   ]
  },
  {
   "cell_type": "code",
   "execution_count": 16,
   "id": "54816152",
   "metadata": {},
   "outputs": [
    {
     "data": {
      "text/plain": [
       "'En 3836seg.  hay 1 Hs., 3 min. , 56 segs'"
      ]
     },
     "execution_count": 16,
     "metadata": {},
     "output_type": "execute_result"
    }
   ],
   "source": [
    "def horas(segundos):\n",
    "    cantHoras=segundos//3600\n",
    "    cantMinutos=0\n",
    "    cantSegundos=0\n",
    "    if (segundos%3600)>0:\n",
    "        cantMinutos=segundos%3600//60\n",
    "    if ((segundos%3600)%60)>0:\n",
    "        cantSegundos=segundos%3600%60\n",
    "        \n",
    "    return f'En {segundos}seg.  hay {cantHoras} Hs., {cantMinutos} min. , {cantSegundos} segs'\n",
    "\n",
    "horas(3836)"
   ]
  },
  {
   "cell_type": "markdown",
   "id": "5f3be214",
   "metadata": {},
   "source": [
    "### Ejercicio 2:\n",
    "\n",
    "Realiza una función que dependiendo de los parámetros que reciba: convierte a segundos o a horas:\n",
    "\n",
    "Si recibe un argumento, supone que son segundos y convierte a horas, minutos y segundos.\n",
    "Si recibe 3 argumentos, supone que son hora, minutos y segundos y los convierte a segundos."
   ]
  },
  {
   "cell_type": "code",
   "execution_count": 22,
   "id": "0f65802e",
   "metadata": {},
   "outputs": [
    {
     "data": {
      "text/plain": [
       "'Cantidad de segundos en 25 horas, 800 min., 3600 seg es igual a: 141600'"
      ]
     },
     "execution_count": 22,
     "metadata": {},
     "output_type": "execute_result"
    }
   ],
   "source": [
    "def conversion(*args):\n",
    "    if len(args)==1:\n",
    "        return horas(args[0])\n",
    "    elif len(args)==3:\n",
    "        return segundos(*args)\n",
    "    else:\n",
    "        return print('Cantidad de parametros incorrectos')\n",
    "conversion(25,800,3600)"
   ]
  },
  {
   "cell_type": "markdown",
   "id": "d381804d",
   "metadata": {},
   "source": [
    "### Ejercicio 3:\n",
    "\n",
    "Queremos hacer una función que añada a una lista los contactos de una agenda. \n",
    "\n",
    "Los contactos se van a guardar en un diccionario, y al menos debe tener el campo de nombre, el campo del teléfono, aunque puede tener más campos. Los datos se irán pidiendo por teclado, se pedirá de antemanos cuantos contactos se van a guardar. \n",
    "\n",
    "Si vamos a guardar más información en el contacto, se irán pidiendo introduciendo campos hasta que introduzcamos el \"*\"."
   ]
  },
  {
   "cell_type": "code",
   "execution_count": 11,
   "id": "42137173",
   "metadata": {},
   "outputs": [
    {
     "name": "stdout",
     "output_type": "stream",
     "text": [
      "¿Cuántos contactos vas a agregar?: 1\n",
      "Nombre: Edgar\n",
      "Teléfono: 351\n",
      "Nombre nuevo campo - '* para terminar': Edad\n",
      "valor: 48\n",
      "Nombre nuevo campo - '* para terminar':*\n",
      "[{'Nombre': 'Edgar', 'Telefono': '351', 'Edad': '48'}]\n"
     ]
    }
   ],
   "source": [
    "def agregarAgenda(listaAgenda,**kwargs):\n",
    "    listaAgenda.append(kwargs)\n",
    "    return listaAgenda\n",
    "\n",
    "agenda=[]\n",
    "cantidad = int(input(\"¿Cuántos contactos vas a agregar?: \"))\n",
    "for i in range(cantidad):\n",
    "    contacto={}\n",
    "    contacto[\"Nombre\"]=input(\"Nombre: \")\n",
    "    contacto[\"Telefono\"]=input(\"Teléfono: \")\n",
    "    campo=input(\"Nombre nuevo campo - '* para terminar': \")\n",
    "    while campo!=\"*\":\n",
    "        contacto[campo]=input(\"Valor: \")\n",
    "        campo=input(\"Nombre nuevo campo - '* para terminar':\")\n",
    "    agenda=agregarAgenda(agenda,**contacto)\n",
    "    print(agenda)"
   ]
  },
  {
   "cell_type": "code",
   "execution_count": null,
   "id": "4740a47a",
   "metadata": {},
   "outputs": [],
   "source": []
  },
  {
   "cell_type": "markdown",
   "id": "0dbec827",
   "metadata": {},
   "source": [
    "### Ejercicio 4:\n",
    "\n",
    "Amplía el programa anterior para hacer una función de búsqueda, que reciba un conjunto de parámetros keyword y devuelve los contactos (en una lista) que coincidan con los criterios de búsqueda."
   ]
  },
  {
   "cell_type": "code",
   "execution_count": 23,
   "id": "c80571a4",
   "metadata": {},
   "outputs": [],
   "source": [
    "def buscar(listaAgenda,**kwargs):\n",
    "    listaEncontro=[]\n",
    "    for contacto in listaAgenda:\n",
    "        encontro=0\n",
    "        for campo,valor in kwargs.items():\n",
    "            if campo in contacto and contacto[campo]==valor:\n",
    "                encontro+=1\n",
    "        if encontro==len(kwargs):\n",
    "            listaEncontro.append(contacto)\n",
    "    return listaEncontro"
   ]
  },
  {
   "cell_type": "code",
   "execution_count": 26,
   "id": "02b35460",
   "metadata": {},
   "outputs": [
    {
     "name": "stdout",
     "output_type": "stream",
     "text": [
      "Campo a buscar: Nombre\n",
      "Valor a buscar:Edgar\n",
      "Otro campo a buscar:*\n",
      "[{'Nombre': 'Edgar', 'Telefono': '351', 'Edad': '48'}]\n"
     ]
    }
   ],
   "source": [
    "filtro={}\n",
    "campo=input(\"Campo a buscar: \")\n",
    "while campo!=\"*\":\n",
    "    filtro[campo]=input(\"Valor a buscar:\")\n",
    "    campo=input(\"Otro campo a buscar:\")\n",
    "print(buscar(agenda,**filtro))"
   ]
  },
  {
   "cell_type": "markdown",
   "id": "43aa190d",
   "metadata": {},
   "source": [
    "### Ejercicio 5:\n",
    "\n",
    "Realizar una función recursiva que reciba una lista y que calcule el producto de los elementos de la lista:"
   ]
  },
  {
   "cell_type": "code",
   "execution_count": 33,
   "id": "d9298c53",
   "metadata": {},
   "outputs": [],
   "source": [
    "def productoLista(lista):\n",
    "    if len(lista)==1:\n",
    "        return lista[0]\n",
    "    else:\n",
    "        return lista[0] * productoLista(lista[1:])"
   ]
  },
  {
   "cell_type": "code",
   "execution_count": 38,
   "id": "c100fca1",
   "metadata": {},
   "outputs": [
    {
     "data": {
      "text/plain": [
       "48"
      ]
     },
     "execution_count": 38,
     "metadata": {},
     "output_type": "execute_result"
    }
   ],
   "source": [
    "numeros=[2,4,2,3]\n",
    "productoLista(numeros)"
   ]
  },
  {
   "cell_type": "code",
   "execution_count": null,
   "id": "afe02a4d",
   "metadata": {},
   "outputs": [],
   "source": []
  },
  {
   "cell_type": "code",
   "execution_count": null,
   "id": "854f7b51",
   "metadata": {},
   "outputs": [],
   "source": []
  }
 ],
 "metadata": {
  "kernelspec": {
   "display_name": "Python 3",
   "language": "python",
   "name": "python3"
  },
  "language_info": {
   "codemirror_mode": {
    "name": "ipython",
    "version": 3
   },
   "file_extension": ".py",
   "mimetype": "text/x-python",
   "name": "python",
   "nbconvert_exporter": "python",
   "pygments_lexer": "ipython3",
   "version": "3.8.10"
  }
 },
 "nbformat": 4,
 "nbformat_minor": 5
}
